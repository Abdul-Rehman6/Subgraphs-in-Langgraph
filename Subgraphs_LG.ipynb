{
 "cells": [
  {
   "cell_type": "code",
   "execution_count": 15,
   "metadata": {},
   "outputs": [],
   "source": [
    "# --- Standard library ---\n",
    "import os\n",
    "import re\n",
    "import operator\n",
    "from typing import TypedDict, Annotated, Literal, Sequence\n",
    "\n",
    "# --- LangGraph ---\n",
    "from langgraph.graph import StateGraph, START, END, add_messages\n",
    "from langgraph.checkpoint.memory import MemorySaver\n",
    "from langgraph.prebuilt import tools_condition, ToolNode\n",
    "\n",
    "\n",
    "# --- LangChain Core ---\n",
    "from langchain_core.messages import SystemMessage, HumanMessage, AIMessage, BaseMessage\n",
    "from langchain_core.prompts import PromptTemplate\n",
    "from langchain_core.output_parsers import StrOutputParser\n",
    "from langchain_core.tools import tool\n",
    "import requests\n",
    "\n",
    "# --- LangChain Community ---\n",
    "from langchain_community.document_loaders import ArxivLoader, PyMuPDFLoader, WebBaseLoader\n",
    "from langchain_community.vectorstores import FAISS\n",
    "\n",
    "# --- LangChain OpenAI ---\n",
    "from langchain_openai import ChatOpenAI, OpenAIEmbeddings\n",
    "\n",
    "# --- LangChain Tools ---\n",
    "from langchain.tools.retriever import create_retriever_tool\n",
    "\n",
    "# --- LangChain Hub ---\n",
    "from langchain import hub\n",
    "\n",
    "# --- LangChain Text Splitters ---\n",
    "from langchain_text_splitters import RecursiveCharacterTextSplitter\n",
    "\n",
    "# --- Other third-party ---\n",
    "from pydantic import BaseModel, Field\n",
    "from dotenv import load_dotenv\n",
    "from youtube_transcript_api import YouTubeTranscriptApi, TranscriptsDisabled\n",
    "from langchain_community.tools import TavilySearchResults\n"
   ]
  },
  {
   "cell_type": "code",
   "execution_count": 16,
   "metadata": {},
   "outputs": [
    {
     "data": {
      "text/plain": [
       "True"
      ]
     },
     "execution_count": 16,
     "metadata": {},
     "output_type": "execute_result"
    }
   ],
   "source": [
    "load_dotenv()"
   ]
  },
  {
   "cell_type": "code",
   "execution_count": 17,
   "metadata": {},
   "outputs": [],
   "source": [
    "class ChildState(TypedDict):\n",
    "    messages: Annotated[list, add_messages]\n",
    "\n",
    "search_tool = TavilySearchResults(max_results=2)\n",
    "tools = [search_tool]\n",
    "\n",
    "llm = ChatOpenAI(model=\"gpt-4o-mini\")\n",
    "\n",
    "llm_with_tools = llm.bind_tools(tools=tools)\n",
    "\n",
    "def agent(state: ChildState):\n",
    "    return {\n",
    "        \"messages\": [llm_with_tools.invoke(state[\"messages\"])], \n",
    "    }\n",
    "\n",
    "def tools_router(state: ChildState):\n",
    "    last_message = state[\"messages\"][-1]\n",
    "\n",
    "    if(hasattr(last_message, \"tool_calls\") and len(last_message.tool_calls) > 0):\n",
    "        return \"tool_node\"\n",
    "    else: \n",
    "        return END\n",
    "    \n",
    "\n",
    "tool_node = ToolNode(tools=tools)\n",
    "\n",
    "subgraph = StateGraph(ChildState)\n",
    "\n",
    "subgraph.add_node(\"agent\", agent)\n",
    "subgraph.add_node(\"tool_node\", tool_node)\n",
    "subgraph.set_entry_point(\"agent\")\n",
    "\n",
    "subgraph.add_conditional_edges(\"agent\", tools_router)\n",
    "subgraph.add_edge(\"tool_node\", \"agent\")\n",
    "\n",
    "search_app = subgraph.compile()"
   ]
  },
  {
   "cell_type": "code",
   "execution_count": 18,
   "metadata": {},
   "outputs": [
    {
     "data": {
      "image/png": "[encoded data removed]",
      "text/plain": [
       "<langgraph.graph.state.CompiledStateGraph object at 0x000002091DBC3950>"
      ]
     },
     "execution_count": 18,
     "metadata": {},
     "output_type": "execute_result"
    }
   ],
   "source": [
    "search_app"
   ]
  },
  {
   "cell_type": "code",
   "execution_count": 20,
   "metadata": {},
   "outputs": [
    {
     "data": {
      "text/plain": [
       "{'messages': [HumanMessage(content='How is the weather in Lahore?', additional_kwargs={}, response_metadata={}, id='bd3bfd90-fc67-4522-9bc2-19e4b479b1b8'),\n",
       "  AIMessage(content='', additional_kwargs={'tool_calls': [{'id': 'call_e9nYL1YbotrZUxQUv4oe3j7f', 'function': {'arguments': '{\"query\":\"current weather in Lahore\"}', 'name': 'tavily_search_results_json'}, 'type': 'function'}], 'refusal': None}, response_metadata={'token_usage': {'completion_tokens': 21, 'prompt_tokens': 86, 'total_tokens': 107, 'completion_tokens_details': {'accepted_prediction_tokens': 0, 'audio_tokens': 0, 'reasoning_tokens': 0, 'rejected_prediction_tokens': 0}, 'prompt_tokens_details': {'audio_tokens': 0, 'cached_tokens': 0}}, 'model_name': 'gpt-4o-mini-2024-07-18', 'system_fingerprint': 'fp_560af6e559', 'id': 'chatcmpl-CEvihHGLiXQdjt4ou1vK0nNI6iufs', 'service_tier': 'default', 'finish_reason': 'tool_calls', 'logprobs': None}, id='run--2206c539-d0cc-4eee-82bf-48504f3bab59-0', tool_calls=[{'name': 'tavily_search_results_json', 'args': {'query': 'current weather in Lahore'}, 'id': 'call_e9nYL1YbotrZUxQUv4oe3j7f', 'type': 'tool_call'}], usage_metadata={'input_tokens': 86, 'output_tokens': 21, 'total_tokens': 107, 'input_token_details': {'audio': 0, 'cache_read': 0}, 'output_token_details': {'audio': 0, 'reasoning': 0}}),\n",
       "  ToolMessage(content='[{\"title\": \"Lahore, Pakistan 14 day weather forecast\", \"url\": \"https://www.timeanddate.com/weather/pakistan/lahore/ext\", \"content\": \"| \\\\\\\\ Updated Friday, September 12, 2025 2:23:55 pm Lahore time - Weather by CustomWeather, © 2025 | | | | | | | | | | | | | [...] Hour-by-hour weather for Lahore next 7 days\\\\n\\\\nNeed some help?\\\\n\\\\nIllustration of a pink shield with a white heart.\\\\n\\\\n#### Love Our Site? Become a Supporter\\\\n\\\\nThe timeanddate logo\\\\n\\\\n© Time and Date AS 1995–2025\\\\n\\\\n#### Company\\\\n\\\\n#### Legal\\\\n\\\\n#### Services\\\\n\\\\n#### Sites\\\\n\\\\n#### Follow Us\\\\n\\\\n© Time and Date AS 1995–2025.\\\\nPrivacy & Terms [...] timeanddate.com\\\\nFlag for Pakistan\\\\n\\\\n# Lahore 14 Day Extended Forecast\\\\n\\\\n## Lahore Extended Forecast with high and low temperatures\\\\n\\\\nSee weather overview\\\\n\\\\n## 2 Week Extended Forecast in Lahore, Pakistan\", \"score\": 0.82761955}, {\"title\": \"Lahore weather in September 2025\", \"url\": \"https://www.weather25.com/asia/pakistan/balochistan/lahore?page=month&month=September\", \"content\": \"weather25.com\\\\nSearch\\\\nweather in Pakistan\\\\nRemove from your favorite locations\\\\nAdd to my locations\\\\nShare\\\\nweather in Pakistan\\\\n\\\\n# Lahore weather in September 2025\\\\n\\\\nPartly cloudy\\\\nPartly cloudy\\\\nSunny\\\\nPartly cloudy\\\\nPartly cloudy\\\\nPartly cloudy\\\\nClear\\\\nClear\\\\nClear\\\\nClear\\\\nClear\\\\nPartly cloudy\\\\nPartly cloudy\\\\nThundery outbreaks possible\\\\n\\\\n## The average weather in Lahore in September [...] If you’re planning to visit Lahore in the near future, we highly recommend that you review the 14 day weather forecast for Lahore before you arrive.\\\\n\\\\nTemperatures\\\\nRainy Days\\\\nSnowy Days\\\\nDry Days\\\\nRainfall\\\\n11.7 [...] | Month | Temperatures | Weather | Rainy Days | Dry Days | Snowy Days | Rainfall |\\\\n ---  ---  --- \\\\n| January | 22° / 10° | Good | 2 | 29 | 0 | 20 mm |\\\\n| February | 25° / 12° | Perfect | 2 | 26 | 0 | 30 mm |\\\\n| March | 31° / 16° | Good | 2 | 29 | 0 | 26 mm |\\\\n| April | 38° / 23° | Bad | 2 | 28 | 0 | 17 mm |\\\\n| May | 43° / 30° | Awful | 1 | 30 | 0 | 23 mm |\\\\n| June | 45° / 33° | Awful | 2 | 28 | 0 | 47 mm |\\\\n| July | 42° / 32° | Awful | 3 | 28 | 0 | 75 mm |\", \"score\": 0.6219319}]', name='tavily_search_results_json', id='830fa8e8-0eac-49d5-b2ac-a6d539f44f81', tool_call_id='call_e9nYL1YbotrZUxQUv4oe3j7f', artifact={'query': 'current weather in Lahore', 'follow_up_questions': None, 'answer': None, 'images': [], 'results': [{'url': 'https://www.timeanddate.com/weather/pakistan/lahore/ext', 'title': 'Lahore, Pakistan 14 day weather forecast', 'content': '| \\\\ Updated Friday, September 12, 2025 2:23:55 pm Lahore time - Weather by CustomWeather, © 2025 | | | | | | | | | | | | | [...] Hour-by-hour weather for Lahore next 7 days\\n\\nNeed some help?\\n\\nIllustration of a pink shield with a white heart.\\n\\n#### Love Our Site? Become a Supporter\\n\\nThe timeanddate logo\\n\\n© Time and Date AS 1995–2025\\n\\n#### Company\\n\\n#### Legal\\n\\n#### Services\\n\\n#### Sites\\n\\n#### Follow Us\\n\\n© Time and Date AS 1995–2025.\\nPrivacy & Terms [...] timeanddate.com\\nFlag for Pakistan\\n\\n# Lahore 14 Day Extended Forecast\\n\\n## Lahore Extended Forecast with high and low temperatures\\n\\nSee weather overview\\n\\n## 2 Week Extended Forecast in Lahore, Pakistan', 'score': 0.82761955, 'raw_content': None}, {'url': 'https://www.weather25.com/asia/pakistan/balochistan/lahore?page=month&month=September', 'title': 'Lahore weather in September 2025', 'content': 'weather25.com\\nSearch\\nweather in Pakistan\\nRemove from your favorite locations\\nAdd to my locations\\nShare\\nweather in Pakistan\\n\\n# Lahore weather in September 2025\\n\\nPartly cloudy\\nPartly cloudy\\nSunny\\nPartly cloudy\\nPartly cloudy\\nPartly cloudy\\nClear\\nClear\\nClear\\nClear\\nClear\\nPartly cloudy\\nPartly cloudy\\nThundery outbreaks possible\\n\\n## The average weather in Lahore in September [...] If you’re planning to visit Lahore in the near future, we highly recommend that you review the 14 day weather forecast for Lahore before you arrive.\\n\\nTemperatures\\nRainy Days\\nSnowy Days\\nDry Days\\nRainfall\\n11.7 [...] | Month | Temperatures | Weather | Rainy Days | Dry Days | Snowy Days | Rainfall |\\n ---  ---  --- \\n| January | 22° / 10° | Good | 2 | 29 | 0 | 20 mm |\\n| February | 25° / 12° | Perfect | 2 | 26 | 0 | 30 mm |\\n| March | 31° / 16° | Good | 2 | 29 | 0 | 26 mm |\\n| April | 38° / 23° | Bad | 2 | 28 | 0 | 17 mm |\\n| May | 43° / 30° | Awful | 1 | 30 | 0 | 23 mm |\\n| June | 45° / 33° | Awful | 2 | 28 | 0 | 47 mm |\\n| July | 42° / 32° | Awful | 3 | 28 | 0 | 75 mm |', 'score': 0.6219319, 'raw_content': None}], 'response_time': 2.67, 'request_id': '8000ab62-1b26-461c-bc05-4f1931502f3b'}),\n",
       "  AIMessage(content='The current weather in Lahore is summarized as follows:\\n\\n1. **Source 1 (Time and Date)**: You can check the detailed weather forecast, including hour-by-hour updates, for Lahore on their [website](https://www.timeanddate.com/weather/pakistan/lahore/ext).\\n   \\n2. **Source 2 (Weather 25)**: The weather for September is predicted to be partly cloudy to clear for the upcoming days. For further details, including averages and forecasts for the month, visit their [site](https://www.weather25.com/asia/pakistan/balochistan/lahore?page=month&month=September).\\n\\nFor the most accurate and updated information, please refer to these sources directly.', additional_kwargs={'refusal': None}, response_metadata={'token_usage': {'completion_tokens': 148, 'prompt_tokens': 786, 'total_tokens': 934, 'completion_tokens_details': {'accepted_prediction_tokens': 0, 'audio_tokens': 0, 'reasoning_tokens': 0, 'rejected_prediction_tokens': 0}, 'prompt_tokens_details': {'audio_tokens': 0, 'cached_tokens': 0}}, 'model_name': 'gpt-4o-mini-2024-07-18', 'system_fingerprint': 'fp_560af6e559', 'id': 'chatcmpl-CEvinEq9OOXtj8eb9Ud33l3OYAbcY', 'service_tier': 'default', 'finish_reason': 'stop', 'logprobs': None}, id='run--04f46302-a15e-43b6-8d2d-b9a8f4b56974-0', usage_metadata={'input_tokens': 786, 'output_tokens': 148, 'total_tokens': 934, 'input_token_details': {'audio': 0, 'cache_read': 0}, 'output_token_details': {'audio': 0, 'reasoning': 0}})]}"
      ]
     },
     "execution_count": 20,
     "metadata": {},
     "output_type": "execute_result"
    }
   ],
   "source": [
    "search_app.invoke({\"messages\": [HumanMessage(content=\"How is the weather in Lahore?\")]})"
   ]
  },
  {
   "cell_type": "markdown",
   "metadata": {},
   "source": [
    "## Case 1: Shared Schema (Direct Embedding)"
   ]
  },
  {
   "cell_type": "code",
   "execution_count": 21,
   "metadata": {},
   "outputs": [
    {
     "data": {
      "text/plain": [
       "{'messages': [HumanMessage(content='How is the weather in Lahore?', additional_kwargs={}, response_metadata={}, id='30d08dae-6bdc-42c5-8423-29cf27ab20d4'),\n",
       "  AIMessage(content='', additional_kwargs={'tool_calls': [{'id': 'call_b7PMaOwNlcI195NLUViQfkho', 'function': {'arguments': '{\"query\":\"Lahore weather today\"}', 'name': 'tavily_search_results_json'}, 'type': 'function'}], 'refusal': None}, response_metadata={'token_usage': {'completion_tokens': 22, 'prompt_tokens': 86, 'total_tokens': 108, 'completion_tokens_details': {'accepted_prediction_tokens': 0, 'audio_tokens': 0, 'reasoning_tokens': 0, 'rejected_prediction_tokens': 0}, 'prompt_tokens_details': {'audio_tokens': 0, 'cached_tokens': 0}}, 'model_name': 'gpt-4o-mini-2024-07-18', 'system_fingerprint': 'fp_560af6e559', 'id': 'chatcmpl-CEvoYwkQbpr86F9kNFX4QEDwNclnE', 'service_tier': 'default', 'finish_reason': 'tool_calls', 'logprobs': None}, id='run--ade66fdf-9cdf-461c-9f0a-df183d336b6d-0', tool_calls=[{'name': 'tavily_search_results_json', 'args': {'query': 'Lahore weather today'}, 'id': 'call_b7PMaOwNlcI195NLUViQfkho', 'type': 'tool_call'}], usage_metadata={'input_tokens': 86, 'output_tokens': 22, 'total_tokens': 108, 'input_token_details': {'audio': 0, 'cache_read': 0}, 'output_token_details': {'audio': 0, 'reasoning': 0}}),\n",
       "  ToolMessage(content='[{\"title\": \"Lahore, Pakistan 14 day weather forecast\", \"url\": \"https://www.timeanddate.com/weather/pakistan/lahore/ext\", \"content\": \"| \\\\\\\\ Updated Friday, September 12, 2025 2:23:55 pm Lahore time - Weather by CustomWeather, © 2025 | | | | | | | | | | | | | [...] Hour-by-hour weather for Lahore next 7 days\\\\n\\\\nNeed some help?\\\\n\\\\nIllustration of a pink shield with a white heart.\\\\n\\\\n#### Love Our Site? Become a Supporter\\\\n\\\\nThe timeanddate logo\\\\n\\\\n© Time and Date AS 1995–2025\\\\n\\\\n#### Company\\\\n\\\\n#### Legal\\\\n\\\\n#### Services\\\\n\\\\n#### Sites\\\\n\\\\n#### Follow Us\\\\n\\\\n© Time and Date AS 1995–2025.\\\\nPrivacy & Terms [...] |  | Conditions | | | Comfort | | | | Precipitation | | Sun | | |\\\\n ---  ---  ---  ---  ---  --- \\\\n| Day |  | Temperature | Weather | Feels Like | Wind |  | Humidity | Chance | Amount | UV | Sunrise | Sunset |\\\\n| Fri Sep 12 |  | 93 / 77 °F | Sunny. | 102 °F | 4 mph | ↑ | 53% | 1% | 0.00\\\\\" | 7 (High) | 5:45 am | 6:12 pm |\\\\n| Sat Sep 13 |  | 96 / 79 °F | Morning clouds. | 106 °F | 5 mph | ↑ | 51% | 5% | 0.00\\\\\" | 5 (Moderate) | 5:45 am | 6:11 pm |\", \"score\": 0.8585411}, {\"title\": \"Lahore weather in September 2025\", \"url\": \"https://www.weather25.com/asia/pakistan/balochistan/lahore?page=month&month=September\", \"content\": \"weather25.com\\\\nSearch\\\\nweather in Pakistan\\\\nRemove from your favorite locations\\\\nAdd to my locations\\\\nShare\\\\nweather in Pakistan\\\\n\\\\n# Lahore weather in September 2025\\\\n\\\\nPartly cloudy\\\\nPartly cloudy\\\\nSunny\\\\nPartly cloudy\\\\nPartly cloudy\\\\nPartly cloudy\\\\nClear\\\\nClear\\\\nClear\\\\nClear\\\\nClear\\\\nPartly cloudy\\\\nPartly cloudy\\\\nThundery outbreaks possible\\\\n\\\\n## The average weather in Lahore in September [...] If you’re planning to visit Lahore in the near future, we highly recommend that you review the 14 day weather forecast for Lahore before you arrive.\\\\n\\\\nTemperatures\\\\nRainy Days\\\\nSnowy Days\\\\nDry Days\\\\nRainfall\\\\n11.7 [...] Partly cloudy\\\\nPatchy rain possible\\\\nPartly cloudy\\\\nPartly cloudy\\\\nPartly cloudy\\\\nSunny\\\\nPartly cloudy\\\\nPartly cloudy\\\\nSunny\\\\nSunny\\\\nSunny\\\\nPartly cloudy\\\\nPartly cloudy\\\\nSunny\\\\nPartly cloudy\\\\nPartly cloudy\\\\nPartly cloudy\\\\nSunny\\\\nSunny\\\\nSunny\\\\nSunny\\\\nSunny\\\\nPartly cloudy\\\\nPartly cloudy\\\\nThundery outbreaks possible\\\\nSunny\\\\nPartly cloudy\\\\nSunny\\\\nPartly cloudy\\\\nPartly cloudy\\\\n\\\\n## Explore the weather in Lahore in other months\\\\n\\\\n## Lahore annual weather\", \"score\": 0.69968605}]', name='tavily_search_results_json', id='a47182f6-da0f-4750-9bd6-452c4c52eb70', tool_call_id='call_b7PMaOwNlcI195NLUViQfkho', artifact={'query': 'Lahore weather today', 'follow_up_questions': None, 'answer': None, 'images': [], 'results': [{'url': 'https://www.timeanddate.com/weather/pakistan/lahore/ext', 'title': 'Lahore, Pakistan 14 day weather forecast', 'content': '| \\\\ Updated Friday, September 12, 2025 2:23:55 pm Lahore time - Weather by CustomWeather, © 2025 | | | | | | | | | | | | | [...] Hour-by-hour weather for Lahore next 7 days\\n\\nNeed some help?\\n\\nIllustration of a pink shield with a white heart.\\n\\n#### Love Our Site? Become a Supporter\\n\\nThe timeanddate logo\\n\\n© Time and Date AS 1995–2025\\n\\n#### Company\\n\\n#### Legal\\n\\n#### Services\\n\\n#### Sites\\n\\n#### Follow Us\\n\\n© Time and Date AS 1995–2025.\\nPrivacy & Terms [...] |  | Conditions | | | Comfort | | | | Precipitation | | Sun | | |\\n ---  ---  ---  ---  ---  --- \\n| Day |  | Temperature | Weather | Feels Like | Wind |  | Humidity | Chance | Amount | UV | Sunrise | Sunset |\\n| Fri Sep 12 |  | 93 / 77 °F | Sunny. | 102 °F | 4 mph | ↑ | 53% | 1% | 0.00\" | 7 (High) | 5:45 am | 6:12 pm |\\n| Sat Sep 13 |  | 96 / 79 °F | Morning clouds. | 106 °F | 5 mph | ↑ | 51% | 5% | 0.00\" | 5 (Moderate) | 5:45 am | 6:11 pm |', 'score': 0.8585411, 'raw_content': None}, {'url': 'https://www.weather25.com/asia/pakistan/balochistan/lahore?page=month&month=September', 'title': 'Lahore weather in September 2025', 'content': 'weather25.com\\nSearch\\nweather in Pakistan\\nRemove from your favorite locations\\nAdd to my locations\\nShare\\nweather in Pakistan\\n\\n# Lahore weather in September 2025\\n\\nPartly cloudy\\nPartly cloudy\\nSunny\\nPartly cloudy\\nPartly cloudy\\nPartly cloudy\\nClear\\nClear\\nClear\\nClear\\nClear\\nPartly cloudy\\nPartly cloudy\\nThundery outbreaks possible\\n\\n## The average weather in Lahore in September [...] If you’re planning to visit Lahore in the near future, we highly recommend that you review the 14 day weather forecast for Lahore before you arrive.\\n\\nTemperatures\\nRainy Days\\nSnowy Days\\nDry Days\\nRainfall\\n11.7 [...] Partly cloudy\\nPatchy rain possible\\nPartly cloudy\\nPartly cloudy\\nPartly cloudy\\nSunny\\nPartly cloudy\\nPartly cloudy\\nSunny\\nSunny\\nSunny\\nPartly cloudy\\nPartly cloudy\\nSunny\\nPartly cloudy\\nPartly cloudy\\nPartly cloudy\\nSunny\\nSunny\\nSunny\\nSunny\\nSunny\\nPartly cloudy\\nPartly cloudy\\nThundery outbreaks possible\\nSunny\\nPartly cloudy\\nSunny\\nPartly cloudy\\nPartly cloudy\\n\\n## Explore the weather in Lahore in other months\\n\\n## Lahore annual weather', 'score': 0.69968605, 'raw_content': None}], 'response_time': 3.95, 'request_id': '9bacd2dd-e96d-49a4-a4d7-7b7b586c967c'}),\n",
       "  AIMessage(content='The current weather in Lahore is sunny with a temperature of around 93°F (34°C) during the day and a low of 77°F (25°C) at night. The \"feels like\" temperature is about 102°F (39°C) due to humidity, which is at 53%. There is a very low chance of precipitation (1%).\\n\\nFor more details, you can visit the [14-day weather forecast for Lahore](https://www.timeanddate.com/weather/pakistan/lahore/ext).', additional_kwargs={'refusal': None}, response_metadata={'token_usage': {'completion_tokens': 106, 'prompt_tokens': 829, 'total_tokens': 935, 'completion_tokens_details': {'accepted_prediction_tokens': 0, 'audio_tokens': 0, 'reasoning_tokens': 0, 'rejected_prediction_tokens': 0}, 'prompt_tokens_details': {'audio_tokens': 0, 'cached_tokens': 0}}, 'model_name': 'gpt-4o-mini-2024-07-18', 'system_fingerprint': 'fp_560af6e559', 'id': 'chatcmpl-CEvofLHCXjSvSujJ8lBpN19iUra4y', 'service_tier': 'default', 'finish_reason': 'stop', 'logprobs': None}, id='run--a6736975-e284-4d39-9ea3-1a63bf0354bc-0', usage_metadata={'input_tokens': 829, 'output_tokens': 106, 'total_tokens': 935, 'input_token_details': {'audio': 0, 'cache_read': 0}, 'output_token_details': {'audio': 0, 'reasoning': 0}})]}"
      ]
     },
     "execution_count": 21,
     "metadata": {},
     "output_type": "execute_result"
    }
   ],
   "source": [
    "# Define parent graph with the same schema\n",
    "class ParentState(TypedDict):\n",
    "    messages: Annotated[list, add_messages]\n",
    "\n",
    "# Create parent graph\n",
    "parent_graph = StateGraph(ParentState)\n",
    "\n",
    "# Add the subgraph as a node\n",
    "parent_graph.add_node(\"search_agent\", search_app)\n",
    "\n",
    "# Connect the flow\n",
    "parent_graph.add_edge(START, \"search_agent\")\n",
    "parent_graph.add_edge(\"search_agent\", END)\n",
    "\n",
    "# Compile parent graph\n",
    "parent_app = parent_graph.compile()\n",
    "\n",
    "# Run the parent graph\n",
    "result = parent_app.invoke({\"messages\": [HumanMessage(content=\"How is the weather in Lahore?\")]})\n",
    "result"
   ]
  },
  {
   "cell_type": "markdown",
   "metadata": {},
   "source": [
    "## Case 2: Different Schema (Invoke with Transformation)"
   ]
  },
  {
   "cell_type": "code",
   "execution_count": 12,
   "metadata": {},
   "outputs": [
    {
     "name": "stdout",
     "output_type": "stream",
     "text": [
      "{'query': 'How is the weather in Chennai?', 'response': \"It seems that I couldn't find the current weather information for Chennai directly. However, you can check reliable sources like [AccuWeather](https://www.accuweather.com/en/in/chennai/206671/september-weather/206671) or other weather websites for the latest updates on the weather conditions in Chennai.\"}\n"
     ]
    }
   ],
   "source": [
    "# Define parent graph with different schema\n",
    "class QueryState(TypedDict):\n",
    "    query: str\n",
    "    response: str\n",
    "\n",
    "# Function to invoke subgraph\n",
    "def search_agent(state: QueryState) -> dict:\n",
    "    # Transform from parent schema to subgraph schema\n",
    "    subgraph_input = {\n",
    "        \"messages\": [HumanMessage(content=state[\"query\"])]\n",
    "    }\n",
    "    \n",
    "    # Invoke the subgraph\n",
    "    subgraph_result = search_app.invoke(subgraph_input)\n",
    "    \n",
    "    # Transform response back to parent schema\n",
    "    assistant_message = subgraph_result[\"messages\"][-1]\n",
    "    return {\"response\": assistant_message.content}\n",
    "\n",
    "# Create parent graph\n",
    "parent_graph = StateGraph(QueryState)\n",
    "\n",
    "# Add transformation node that invokes subgraph\n",
    "parent_graph.add_node(\"search_agent\", search_agent)\n",
    "\n",
    "# Connect the flow\n",
    "parent_graph.add_edge(START, \"search_agent\")\n",
    "parent_graph.add_edge(\"search_agent\", END)\n",
    "\n",
    "# Compile parent graph\n",
    "parent_app = parent_graph.compile()\n",
    "\n",
    "# Run the parent graph\n",
    "result = parent_app.invoke({\"query\": \"How is the weather in Chennai?\", \"response\": \"\"})\n",
    "print(result)"
   ]
  },
  {
   "cell_type": "code",
   "execution_count": null,
   "metadata": {},
   "outputs": [],
   "source": []
  },
  {
   "cell_type": "code",
   "execution_count": null,
   "metadata": {},
   "outputs": [],
   "source": []
  },
  {
   "cell_type": "code",
   "execution_count": null,
   "metadata": {},
   "outputs": [],
   "source": []
  }
 ],
 "metadata": {
  "kernelspec": {
   "display_name": "myenv",
   "language": "python",
   "name": "python3"
  },
  "language_info": {
   "codemirror_mode": {
    "name": "ipython",
    "version": 3
   },
   "file_extension": ".py",
   "mimetype": "text/x-python",
   "name": "python",
   "nbconvert_exporter": "python",
   "pygments_lexer": "ipython3",
   "version": "3.11.5"
  }
 },
 "nbformat": 4,
 "nbformat_minor": 2
}
